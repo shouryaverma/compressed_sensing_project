{
 "cells": [
  {
   "cell_type": "code",
   "execution_count": 1,
   "id": "5cfbc223",
   "metadata": {},
   "outputs": [],
   "source": [
    "import numpy as np\n",
    "import matplotlib.pyplot as plt\n",
    "import scipy as sc\n",
    "from sklearn.preprocessing import normalize\n",
    "import mat73\n",
    "import scipy.sparse as sparse\n",
    "import cvxpy as cp\n",
    "import mosek\n",
    "import pywt"
   ]
  },
  {
   "cell_type": "code",
   "execution_count": 2,
   "id": "4b7c6eff",
   "metadata": {},
   "outputs": [],
   "source": [
    "data = mat73.loadmat('./data/data3_440.mat')\n",
    "\n",
    "A = data['trainimages'][::800,:] # had to downsample images to make CVXPY not eat up my whole RAM\n",
    "b = data['testimages'][::800,:] # had to downsample images to make CVXPY not eat up my whole RAM\n",
    "\n",
    "train_id = data['trainids']\n",
    "test_id = data['testids']"
   ]
  },
  {
   "cell_type": "code",
   "execution_count": 3,
   "id": "dc0865c0",
   "metadata": {},
   "outputs": [],
   "source": [
    "# 2-Norm\n",
    "def norm2(x):\n",
    "    return np.linalg.norm(x,2)\n",
    "\n",
    "# Normalized Error\n",
    "def normalized_error(x,x_pre):\n",
    "    return norm2(x-x_pre)/norm2(x)\n",
    "\n",
    "# Modified FISTA\n",
    "def FISTAmod(B,b,w,gamma,p,q,r,n,m):\n",
    "\n",
    "    # Forward Backward Operator with proxy\n",
    "    def gradF():\n",
    "        # print('gradF start')\n",
    "        grad = B.T.dot(B.dot(y)-b)\n",
    "        # print('gradF done')\n",
    "        return grad\n",
    "    \n",
    "    def expr():\n",
    "        # print('expr start')\n",
    "        expr1 = y-gamma*gradF()\n",
    "        # print('expr done')\n",
    "        return expr1\n",
    "\n",
    "    def fbo():\n",
    "        expr1 = expr()\n",
    "        # print('proxy start')\n",
    "        x_hat = cp.Variable((n+m,1))\n",
    "        prob = cp.Problem(cp.Minimize(0.5*cp.norm(x_hat-expr1,2)**2 + lambd*(np.linalg.norm(x,1))))\n",
    "        prob.solve()\n",
    "        prox = x_hat.value\n",
    "        # print('proxy done')\n",
    "        return prox\n",
    "    \n",
    "    tolerance = 10e-6\n",
    "    lambd = 1\n",
    "    t = 1\n",
    "    x = w\n",
    "    y = w\n",
    "    count = 0\n",
    "    max_iter = 10\n",
    "    while count<max_iter:\n",
    "        print('iteration: ',count)\n",
    "        x_old = x\n",
    "        x = fbo()\n",
    "        t_old = t\n",
    "        t = (p+np.sqrt(q+r*t_old**2))/2\n",
    "        a = (t_old - 1)/t\n",
    "        y = x+a*(x-x_old)\n",
    "        res = np.linalg.norm(x_old-x,'fro')\n",
    "        if res/n<tolerance:\n",
    "            break\n",
    "        count+=1\n",
    "    x_sparse = x\n",
    "    return(x_sparse)"
   ]
  },
  {
   "cell_type": "code",
   "execution_count": 4,
   "id": "5051eb32",
   "metadata": {},
   "outputs": [],
   "source": [
    "# parameters\n",
    "p = 0.1\n",
    "q = 0.1\n",
    "r = 1\n",
    "m = A.shape[0]\n",
    "n = A.shape[1]\n",
    "A1 = A.T\n",
    "b1 = b.T\n",
    "gamma = 1/np.linalg.norm(A)**2\n",
    "x_0 = np.zeros((n,1))\n",
    "e = np.random.normal(0,1,(m,1))\n",
    "e = normalize(e, axis=0, norm='max')\n",
    "w = np.vstack((x_0,e))\n",
    "B = sparse.hstack((A1,sparse.eye(n)))"
   ]
  },
  {
   "cell_type": "code",
   "execution_count": null,
   "id": "577d840d",
   "metadata": {},
   "outputs": [
    {
     "name": "stdout",
     "output_type": "stream",
     "text": [
      "test_img:  0\n",
      "iteration:  0\n",
      "iteration:  1\n",
      "iteration:  2\n",
      "test_img:  1\n",
      "iteration:  0\n",
      "iteration:  1\n",
      "iteration:  2\n",
      "test_img:  2\n",
      "iteration:  0\n",
      "iteration:  1\n",
      "iteration:  2\n",
      "test_img:  3\n",
      "iteration:  0\n",
      "iteration:  1\n",
      "iteration:  2\n",
      "test_img:  4\n",
      "iteration:  0\n"
     ]
    }
   ],
   "source": [
    "total_err = [] \n",
    "for i in range(b.shape[1]):\n",
    "    print('test_img: ',i)\n",
    "    w_hat = FISTAmod(B,b1[i],w,gamma,p,q,r,n,m)\n",
    "    total_err.append(normalized_error(w,w_hat))"
   ]
  },
  {
   "cell_type": "code",
   "execution_count": null,
   "id": "b608dbb4",
   "metadata": {},
   "outputs": [],
   "source": [
    "# CVXPY takes way too long on full images and I have to downsample images significantly to make it work. "
   ]
  },
  {
   "cell_type": "code",
   "execution_count": null,
   "id": "2f0b7645",
   "metadata": {},
   "outputs": [],
   "source": []
  }
 ],
 "metadata": {
  "kernelspec": {
   "display_name": "Python 3 (ipykernel)",
   "language": "python",
   "name": "python3"
  },
  "language_info": {
   "codemirror_mode": {
    "name": "ipython",
    "version": 3
   },
   "file_extension": ".py",
   "mimetype": "text/x-python",
   "name": "python",
   "nbconvert_exporter": "python",
   "pygments_lexer": "ipython3",
   "version": "3.10.5"
  }
 },
 "nbformat": 4,
 "nbformat_minor": 5
}
